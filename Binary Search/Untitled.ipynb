{
 "cells": [
  {
   "cell_type": "code",
   "execution_count": 122,
   "metadata": {},
   "outputs": [],
   "source": [
    "import numpy as np\n",
    "import pandas as pd"
   ]
  },
  {
   "cell_type": "code",
   "execution_count": 123,
   "metadata": {},
   "outputs": [],
   "source": [
    "lists = [5, 1, 5, 8, 12, 13, 5, 8, 1, 23, 1, 11]"
   ]
  },
  {
   "cell_type": "code",
   "execution_count": 124,
   "metadata": {},
   "outputs": [
    {
     "data": {
      "text/plain": [
       "[5, 1, 5, 8, 12, 13, 5, 8, 1, 23, 1, 11]"
      ]
     },
     "execution_count": 124,
     "metadata": {},
     "output_type": "execute_result"
    }
   ],
   "source": [
    "lists"
   ]
  },
  {
   "cell_type": "code",
   "execution_count": 125,
   "metadata": {},
   "outputs": [],
   "source": [
    "n = lists[0]\n",
    "m = lists[n+1]\n",
    "a = lists[1: n+1]"
   ]
  },
  {
   "cell_type": "code",
   "execution_count": 126,
   "metadata": {},
   "outputs": [],
   "source": [
    "a = [1, 5, 8, 12, 13]\n",
    "b = [8, 1, 23, 1, 11]"
   ]
  },
  {
   "cell_type": "code",
   "execution_count": 127,
   "metadata": {},
   "outputs": [
    {
     "name": "stdout",
     "output_type": "stream",
     "text": [
      "2 0 -1 0 -1 "
     ]
    }
   ],
   "source": [
    "for x in b:\n",
    "    print(binary_search(a, x), end = ' ')"
   ]
  },
  {
   "cell_type": "code",
   "execution_count": 128,
   "metadata": {},
   "outputs": [
    {
     "ename": "SyntaxError",
     "evalue": "invalid syntax (<ipython-input-128-05347ab0a836>, line 1)",
     "output_type": "error",
     "traceback": [
      "\u001b[0;36m  File \u001b[0;32m\"<ipython-input-128-05347ab0a836>\"\u001b[0;36m, line \u001b[0;32m1\u001b[0m\n\u001b[0;31m    5 1 5 8 12 13 5 8 1 23 1 11\u001b[0m\n\u001b[0m      ^\u001b[0m\n\u001b[0;31mSyntaxError\u001b[0m\u001b[0;31m:\u001b[0m invalid syntax\n"
     ]
    }
   ],
   "source": [
    "5 1 5 8 12 13 5 8 1 23 1 11"
   ]
  },
  {
   "cell_type": "code",
   "execution_count": 129,
   "metadata": {},
   "outputs": [],
   "source": [
    "def binary_search(a, x):\n",
    "    low, high = 0, len(a)\n",
    "    if high < low:\n",
    "        return -1\n",
    "    \n",
    "    mid = low + (high -low)//2\n",
    "    "
   ]
  },
  {
   "cell_type": "code",
   "execution_count": 130,
   "metadata": {},
   "outputs": [
    {
     "ename": "TypeError",
     "evalue": "binary_search() missing 1 required positional argument: 'x'",
     "output_type": "error",
     "traceback": [
      "\u001b[0;31m---------------------------------------------------------------------------\u001b[0m",
      "\u001b[0;31mTypeError\u001b[0m                                 Traceback (most recent call last)",
      "\u001b[0;32m<ipython-input-130-fd6e2306d05c>\u001b[0m in \u001b[0;36m<module>\u001b[0;34m\u001b[0m\n\u001b[0;32m----> 1\u001b[0;31m \u001b[0mbinary_search\u001b[0m\u001b[0;34m(\u001b[0m\u001b[0ma\u001b[0m\u001b[0;34m,\u001b[0m \u001b[0;34m)\u001b[0m\u001b[0;34m\u001b[0m\u001b[0;34m\u001b[0m\u001b[0m\n\u001b[0m",
      "\u001b[0;31mTypeError\u001b[0m: binary_search() missing 1 required positional argument: 'x'"
     ]
    }
   ],
   "source": [
    "binary_search(a, )"
   ]
  },
  {
   "cell_type": "code",
   "execution_count": 131,
   "metadata": {},
   "outputs": [],
   "source": [
    "def binary_search(array, target):\n",
    "    lower = 0\n",
    "    upper = len(array)\n",
    "    while lower < upper:   # use < instead of <=\n",
    "        mid = lower + (upper - lower) // 2\n",
    "        if target == array[mid]:\n",
    "            return mid\n",
    "        elif target > array[mid]:\n",
    "            if lower == mid:   # these two are the actual lines\n",
    "                return -1        # you're looking for\n",
    "            lower = mid\n",
    "        elif target < array[mid]:\n",
    "            upper = mid"
   ]
  },
  {
   "cell_type": "code",
   "execution_count": 138,
   "metadata": {},
   "outputs": [],
   "source": [
    "a = [2, 5, 8, 12, 13]\n",
    "b = [8, 1, 23, 1, 11]"
   ]
  },
  {
   "cell_type": "code",
   "execution_count": 141,
   "metadata": {},
   "outputs": [
    {
     "name": "stdout",
     "output_type": "stream",
     "text": [
      "2\n",
      "None\n",
      "-1\n",
      "None\n",
      "-1\n"
     ]
    }
   ],
   "source": [
    "for x in b:\n",
    "    print(binary_search(a, x))"
   ]
  },
  {
   "cell_type": "code",
   "execution_count": 134,
   "metadata": {},
   "outputs": [],
   "source": [
    "def binary_search(array, target):\n",
    "    lower = 0\n",
    "    upper = len(array)\n",
    "    while lower < upper:   # use < instead of <=\n",
    "        mid = lower + (upper - lower) // 2\n",
    "        if target == array[mid]:\n",
    "            return mid\n",
    "        elif target > array[mid]:\n",
    "            if lower == mid:   # these two are the actual lines\n",
    "                return -1        # you're looking for\n",
    "            lower = mid\n",
    "        elif target < array[mid]:\n",
    "            if upper == mid:\n",
    "                return -1\n",
    "            upper = mid"
   ]
  },
  {
   "cell_type": "code",
   "execution_count": 142,
   "metadata": {},
   "outputs": [],
   "source": [
    "a = [2, 5, 8, 12, 13]\n",
    "b = [8, 1, 23, 1, 11]"
   ]
  },
  {
   "cell_type": "code",
   "execution_count": 190,
   "metadata": {},
   "outputs": [],
   "source": [
    "def binary_search(a, x):\n",
    "    left, right = 0, len(a) - 1\n",
    "    print(\"\\n\")\n",
    "    print(\"a array: \", a)\n",
    "    print(\"x key: \", x)\n",
    "    print(\"left\", left, \"right\", right)\n",
    "    while left <= right:\n",
    "        mid = left + (right - left) // 2\n",
    "        print(\"mid\", mid)\n",
    "        print('a[mid] is: ', a[mid])\n",
    "        if a[mid] == x:\n",
    "            return mid\n",
    "        elif x < a[mid]:\n",
    "            print(\"x < a[mid]\", x, \" < \", a[mid])\n",
    "            print(\"PRIOR: \", \"left\", left, \"right\", right)\n",
    "            print(\" right = mid-1\", mid, \"-1\")\n",
    "            right = mid - 1\n",
    "            print(\"AFTER: \", \"left\", left, \"right\", right)\n",
    "        else:\n",
    "            print(\"x > a[mid]\", x, \" > \", a[mid])\n",
    "            print(\"PRIOR: \", \"left\", left, \"right\", right)\n",
    "            print(\" left = mid+1\", mid, \"+1\")\n",
    "            left = mid + 1\n",
    "            print(\"AFTER: \", \"left\", left, \"right\", right)\n",
    "    return -1\n",
    "    \n"
   ]
  },
  {
   "cell_type": "code",
   "execution_count": 191,
   "metadata": {},
   "outputs": [
    {
     "name": "stdout",
     "output_type": "stream",
     "text": [
      "\n",
      "\n",
      "a array:  [2, 5, 8, 12, 13]\n",
      "x key:  8\n",
      "left 0 right 4\n",
      "mid 2\n",
      "a[mid] is:  8\n",
      "2\n",
      "\n",
      "\n",
      "a array:  [2, 5, 8, 12, 13]\n",
      "x key:  1\n",
      "left 0 right 4\n",
      "mid 2\n",
      "a[mid] is:  8\n",
      "x < a[mid] 1  <  8\n",
      "PRIOR:  left 0 right 4\n",
      " right = mid-1 2 -1\n",
      "AFTER:  left 0 right 1\n",
      "mid 0\n",
      "a[mid] is:  2\n",
      "x < a[mid] 1  <  2\n",
      "PRIOR:  left 0 right 1\n",
      " right = mid-1 0 -1\n",
      "AFTER:  left 0 right -1\n",
      "-1\n",
      "\n",
      "\n",
      "a array:  [2, 5, 8, 12, 13]\n",
      "x key:  23\n",
      "left 0 right 4\n",
      "mid 2\n",
      "a[mid] is:  8\n",
      "x > a[mid] 23  >  8\n",
      "PRIOR:  left 0 right 4\n",
      " left = mid+1 2 +1\n",
      "AFTER:  left 3 right 4\n",
      "mid 3\n",
      "a[mid] is:  12\n",
      "x > a[mid] 23  >  12\n",
      "PRIOR:  left 3 right 4\n",
      " left = mid+1 3 +1\n",
      "AFTER:  left 4 right 4\n",
      "mid 4\n",
      "a[mid] is:  13\n",
      "x > a[mid] 23  >  13\n",
      "PRIOR:  left 4 right 4\n",
      " left = mid+1 4 +1\n",
      "AFTER:  left 5 right 4\n",
      "-1\n",
      "\n",
      "\n",
      "a array:  [2, 5, 8, 12, 13]\n",
      "x key:  1\n",
      "left 0 right 4\n",
      "mid 2\n",
      "a[mid] is:  8\n",
      "x < a[mid] 1  <  8\n",
      "PRIOR:  left 0 right 4\n",
      " right = mid-1 2 -1\n",
      "AFTER:  left 0 right 1\n",
      "mid 0\n",
      "a[mid] is:  2\n",
      "x < a[mid] 1  <  2\n",
      "PRIOR:  left 0 right 1\n",
      " right = mid-1 0 -1\n",
      "AFTER:  left 0 right -1\n",
      "-1\n",
      "\n",
      "\n",
      "a array:  [2, 5, 8, 12, 13]\n",
      "x key:  11\n",
      "left 0 right 4\n",
      "mid 2\n",
      "a[mid] is:  8\n",
      "x > a[mid] 11  >  8\n",
      "PRIOR:  left 0 right 4\n",
      " left = mid+1 2 +1\n",
      "AFTER:  left 3 right 4\n",
      "mid 3\n",
      "a[mid] is:  12\n",
      "x < a[mid] 11  <  12\n",
      "PRIOR:  left 3 right 4\n",
      " right = mid-1 3 -1\n",
      "AFTER:  left 3 right 2\n",
      "-1\n"
     ]
    }
   ],
   "source": [
    "for x in b:\n",
    "    print(binary_search(a, x))"
   ]
  },
  {
   "cell_type": "code",
   "execution_count": null,
   "metadata": {},
   "outputs": [],
   "source": []
  },
  {
   "cell_type": "code",
   "execution_count": null,
   "metadata": {},
   "outputs": [],
   "source": []
  }
 ],
 "metadata": {
  "kernelspec": {
   "display_name": "Python 3",
   "language": "python",
   "name": "python3"
  },
  "language_info": {
   "codemirror_mode": {
    "name": "ipython",
    "version": 3
   },
   "file_extension": ".py",
   "mimetype": "text/x-python",
   "name": "python",
   "nbconvert_exporter": "python",
   "pygments_lexer": "ipython3",
   "version": "3.6.8"
  }
 },
 "nbformat": 4,
 "nbformat_minor": 2
}
