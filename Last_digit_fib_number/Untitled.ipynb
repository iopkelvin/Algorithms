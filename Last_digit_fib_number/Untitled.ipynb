{
 "cells": [
  {
   "cell_type": "code",
   "execution_count": 7,
   "metadata": {},
   "outputs": [],
   "source": [
    "def fib_list(n):\n",
    "    a,b = 0,1\n",
    "    for i in range(n):\n",
    "        print(\"i: \",i)\n",
    "        a,b = b%10, a+b % 10\n",
    "        print(a,b)\n",
    "    return a"
   ]
  },
  {
   "cell_type": "code",
   "execution_count": 9,
   "metadata": {},
   "outputs": [
    {
     "name": "stdout",
     "output_type": "stream",
     "text": [
      "i:  0\n",
      "1 1\n",
      "i:  1\n",
      "1 2\n",
      "i:  2\n",
      "2 3\n",
      "i:  3\n",
      "3 5\n",
      "i:  4\n",
      "5 8\n",
      "i:  5\n",
      "8 13\n",
      "i:  6\n",
      "3 11\n",
      "i:  7\n",
      "1 4\n",
      "i:  8\n",
      "4 5\n"
     ]
    },
    {
     "data": {
      "text/plain": [
       "4"
      ]
     },
     "execution_count": 9,
     "metadata": {},
     "output_type": "execute_result"
    }
   ],
   "source": [
    "fib_list(9)"
   ]
  },
  {
   "cell_type": "code",
   "execution_count": 42,
   "metadata": {},
   "outputs": [],
   "source": [
    "import numpy as np\n",
    "def fib_list(n):\n",
    "    #while n>=0 and n<=45:\n",
    "    a=0\n",
    "    b=1\n",
    "    for i in range(1, n+1):\n",
    "        a,b= b, a+b\n",
    "        print(\"i: \",i,a,b)\n",
    "    return a"
   ]
  },
  {
   "cell_type": "code",
   "execution_count": 43,
   "metadata": {},
   "outputs": [
    {
     "name": "stdout",
     "output_type": "stream",
     "text": [
      "i:  1 1 1\n",
      "i:  2 1 2\n",
      "i:  3 2 3\n",
      "i:  4 3 5\n",
      "i:  5 5 8\n",
      "i:  6 8 13\n",
      "i:  7 13 21\n",
      "i:  8 21 34\n",
      "i:  9 34 55\n"
     ]
    },
    {
     "data": {
      "text/plain": [
       "34"
      ]
     },
     "execution_count": 43,
     "metadata": {},
     "output_type": "execute_result"
    }
   ],
   "source": [
    "fib_list(9)"
   ]
  },
  {
   "cell_type": "code",
   "execution_count": null,
   "metadata": {},
   "outputs": [],
   "source": []
  },
  {
   "cell_type": "code",
   "execution_count": 55,
   "metadata": {},
   "outputs": [],
   "source": [
    "def eff(x, y):\n",
    "    dividend = x if (x>=y) else y\n",
    "    divisor = x if (x<=y) else y \n",
    "    while divisor != 0:\n",
    "        dividend, divisor = divisor, dividend%divisor\n",
    "        print(dividend, divisor)\n",
    "    return dividend"
   ]
  },
  {
   "cell_type": "code",
   "execution_count": 56,
   "metadata": {},
   "outputs": [
    {
     "name": "stdout",
     "output_type": "stream",
     "text": [
      "217 42\n",
      "42 7\n",
      "7 0\n"
     ]
    },
    {
     "data": {
      "text/plain": [
       "7"
      ]
     },
     "execution_count": 56,
     "metadata": {},
     "output_type": "execute_result"
    }
   ],
   "source": [
    "eff(1344, 217)"
   ]
  },
  {
   "cell_type": "code",
   "execution_count": 59,
   "metadata": {},
   "outputs": [
    {
     "data": {
      "text/plain": [
       "42"
      ]
     },
     "execution_count": 59,
     "metadata": {},
     "output_type": "execute_result"
    }
   ],
   "source": [
    "1344%217"
   ]
  },
  {
   "cell_type": "code",
   "execution_count": null,
   "metadata": {},
   "outputs": [],
   "source": []
  }
 ],
 "metadata": {
  "kernelspec": {
   "display_name": "Python 3",
   "language": "python",
   "name": "python3"
  },
  "language_info": {
   "codemirror_mode": {
    "name": "ipython",
    "version": 3
   },
   "file_extension": ".py",
   "mimetype": "text/x-python",
   "name": "python",
   "nbconvert_exporter": "python",
   "pygments_lexer": "ipython3",
   "version": "3.6.8"
  }
 },
 "nbformat": 4,
 "nbformat_minor": 2
}
